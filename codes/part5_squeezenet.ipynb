{
  "nbformat": 4,
  "nbformat_minor": 0,
  "metadata": {
    "colab": {
      "provenance": []
    },
    "kernelspec": {
      "name": "python3",
      "display_name": "Python 3"
    },
    "language_info": {
      "name": "python"
    }
  },
  "cells": [
    {
      "cell_type": "code",
      "execution_count": 4,
      "metadata": {
        "id": "9NCk9Acfi_LW"
      },
      "outputs": [],
      "source": [
        "from tensorflow.keras.layers import GlobalAveragePooling2D, Dense\n",
        "from tensorflow.keras.models import Model\n",
        "#from tensorflow.keras.applications import SqueezeNet\n",
        "from tensorflow.keras.optimizers import Adam"
      ]
    },
    {
      "cell_type": "code",
      "source": [
        "pip install keras_applications"
      ],
      "metadata": {
        "colab": {
          "base_uri": "https://localhost:8080/"
        },
        "id": "-VD8ADkSjBOs",
        "outputId": "dbcbf948-ab73-45e5-b7ef-8c9165e905e7"
      },
      "execution_count": 2,
      "outputs": [
        {
          "output_type": "stream",
          "name": "stdout",
          "text": [
            "Collecting keras_applications\n",
            "  Downloading Keras_Applications-1.0.8-py3-none-any.whl (50 kB)\n",
            "\u001b[2K     \u001b[90m━━━━━━━━━━━━━━━━━━━━━━━━━━━━━━━━━━━━━━━━\u001b[0m \u001b[32m50.7/50.7 kB\u001b[0m \u001b[31m390.5 kB/s\u001b[0m eta \u001b[36m0:00:00\u001b[0m\n",
            "\u001b[?25hRequirement already satisfied: numpy>=1.9.1 in /usr/local/lib/python3.10/dist-packages (from keras_applications) (1.25.2)\n",
            "Requirement already satisfied: h5py in /usr/local/lib/python3.10/dist-packages (from keras_applications) (3.9.0)\n",
            "Installing collected packages: keras_applications\n",
            "Successfully installed keras_applications-1.0.8\n"
          ]
        }
      ]
    },
    {
      "cell_type": "code",
      "source": [
        "from google.colab import files\n",
        "\n",
        "# Upload the .zip file\n",
        "uploaded = files.upload()\n",
        "\n",
        "# Extract the contents of the .zip file\n",
        "import zipfile\n",
        "import io\n",
        "\n",
        "with zipfile.ZipFile(\"/content/brain_tumor_dataset.zip\", 'r') as zip_ref:\n",
        "    zip_ref.extractall('/content/dataset')\n",
        "    zip_ref.close()"
      ],
      "metadata": {
        "colab": {
          "base_uri": "https://localhost:8080/",
          "height": 73
        },
        "id": "e79_PTVZpEqz",
        "outputId": "108a0af4-6062-4686-f599-c6fbdd27125e"
      },
      "execution_count": 8,
      "outputs": [
        {
          "output_type": "display_data",
          "data": {
            "text/plain": [
              "<IPython.core.display.HTML object>"
            ],
            "text/html": [
              "\n",
              "     <input type=\"file\" id=\"files-6399f0fb-0c81-49aa-8117-85691438601c\" name=\"files[]\" multiple disabled\n",
              "        style=\"border:none\" />\n",
              "     <output id=\"result-6399f0fb-0c81-49aa-8117-85691438601c\">\n",
              "      Upload widget is only available when the cell has been executed in the\n",
              "      current browser session. Please rerun this cell to enable.\n",
              "      </output>\n",
              "      <script>// Copyright 2017 Google LLC\n",
              "//\n",
              "// Licensed under the Apache License, Version 2.0 (the \"License\");\n",
              "// you may not use this file except in compliance with the License.\n",
              "// You may obtain a copy of the License at\n",
              "//\n",
              "//      http://www.apache.org/licenses/LICENSE-2.0\n",
              "//\n",
              "// Unless required by applicable law or agreed to in writing, software\n",
              "// distributed under the License is distributed on an \"AS IS\" BASIS,\n",
              "// WITHOUT WARRANTIES OR CONDITIONS OF ANY KIND, either express or implied.\n",
              "// See the License for the specific language governing permissions and\n",
              "// limitations under the License.\n",
              "\n",
              "/**\n",
              " * @fileoverview Helpers for google.colab Python module.\n",
              " */\n",
              "(function(scope) {\n",
              "function span(text, styleAttributes = {}) {\n",
              "  const element = document.createElement('span');\n",
              "  element.textContent = text;\n",
              "  for (const key of Object.keys(styleAttributes)) {\n",
              "    element.style[key] = styleAttributes[key];\n",
              "  }\n",
              "  return element;\n",
              "}\n",
              "\n",
              "// Max number of bytes which will be uploaded at a time.\n",
              "const MAX_PAYLOAD_SIZE = 100 * 1024;\n",
              "\n",
              "function _uploadFiles(inputId, outputId) {\n",
              "  const steps = uploadFilesStep(inputId, outputId);\n",
              "  const outputElement = document.getElementById(outputId);\n",
              "  // Cache steps on the outputElement to make it available for the next call\n",
              "  // to uploadFilesContinue from Python.\n",
              "  outputElement.steps = steps;\n",
              "\n",
              "  return _uploadFilesContinue(outputId);\n",
              "}\n",
              "\n",
              "// This is roughly an async generator (not supported in the browser yet),\n",
              "// where there are multiple asynchronous steps and the Python side is going\n",
              "// to poll for completion of each step.\n",
              "// This uses a Promise to block the python side on completion of each step,\n",
              "// then passes the result of the previous step as the input to the next step.\n",
              "function _uploadFilesContinue(outputId) {\n",
              "  const outputElement = document.getElementById(outputId);\n",
              "  const steps = outputElement.steps;\n",
              "\n",
              "  const next = steps.next(outputElement.lastPromiseValue);\n",
              "  return Promise.resolve(next.value.promise).then((value) => {\n",
              "    // Cache the last promise value to make it available to the next\n",
              "    // step of the generator.\n",
              "    outputElement.lastPromiseValue = value;\n",
              "    return next.value.response;\n",
              "  });\n",
              "}\n",
              "\n",
              "/**\n",
              " * Generator function which is called between each async step of the upload\n",
              " * process.\n",
              " * @param {string} inputId Element ID of the input file picker element.\n",
              " * @param {string} outputId Element ID of the output display.\n",
              " * @return {!Iterable<!Object>} Iterable of next steps.\n",
              " */\n",
              "function* uploadFilesStep(inputId, outputId) {\n",
              "  const inputElement = document.getElementById(inputId);\n",
              "  inputElement.disabled = false;\n",
              "\n",
              "  const outputElement = document.getElementById(outputId);\n",
              "  outputElement.innerHTML = '';\n",
              "\n",
              "  const pickedPromise = new Promise((resolve) => {\n",
              "    inputElement.addEventListener('change', (e) => {\n",
              "      resolve(e.target.files);\n",
              "    });\n",
              "  });\n",
              "\n",
              "  const cancel = document.createElement('button');\n",
              "  inputElement.parentElement.appendChild(cancel);\n",
              "  cancel.textContent = 'Cancel upload';\n",
              "  const cancelPromise = new Promise((resolve) => {\n",
              "    cancel.onclick = () => {\n",
              "      resolve(null);\n",
              "    };\n",
              "  });\n",
              "\n",
              "  // Wait for the user to pick the files.\n",
              "  const files = yield {\n",
              "    promise: Promise.race([pickedPromise, cancelPromise]),\n",
              "    response: {\n",
              "      action: 'starting',\n",
              "    }\n",
              "  };\n",
              "\n",
              "  cancel.remove();\n",
              "\n",
              "  // Disable the input element since further picks are not allowed.\n",
              "  inputElement.disabled = true;\n",
              "\n",
              "  if (!files) {\n",
              "    return {\n",
              "      response: {\n",
              "        action: 'complete',\n",
              "      }\n",
              "    };\n",
              "  }\n",
              "\n",
              "  for (const file of files) {\n",
              "    const li = document.createElement('li');\n",
              "    li.append(span(file.name, {fontWeight: 'bold'}));\n",
              "    li.append(span(\n",
              "        `(${file.type || 'n/a'}) - ${file.size} bytes, ` +\n",
              "        `last modified: ${\n",
              "            file.lastModifiedDate ? file.lastModifiedDate.toLocaleDateString() :\n",
              "                                    'n/a'} - `));\n",
              "    const percent = span('0% done');\n",
              "    li.appendChild(percent);\n",
              "\n",
              "    outputElement.appendChild(li);\n",
              "\n",
              "    const fileDataPromise = new Promise((resolve) => {\n",
              "      const reader = new FileReader();\n",
              "      reader.onload = (e) => {\n",
              "        resolve(e.target.result);\n",
              "      };\n",
              "      reader.readAsArrayBuffer(file);\n",
              "    });\n",
              "    // Wait for the data to be ready.\n",
              "    let fileData = yield {\n",
              "      promise: fileDataPromise,\n",
              "      response: {\n",
              "        action: 'continue',\n",
              "      }\n",
              "    };\n",
              "\n",
              "    // Use a chunked sending to avoid message size limits. See b/62115660.\n",
              "    let position = 0;\n",
              "    do {\n",
              "      const length = Math.min(fileData.byteLength - position, MAX_PAYLOAD_SIZE);\n",
              "      const chunk = new Uint8Array(fileData, position, length);\n",
              "      position += length;\n",
              "\n",
              "      const base64 = btoa(String.fromCharCode.apply(null, chunk));\n",
              "      yield {\n",
              "        response: {\n",
              "          action: 'append',\n",
              "          file: file.name,\n",
              "          data: base64,\n",
              "        },\n",
              "      };\n",
              "\n",
              "      let percentDone = fileData.byteLength === 0 ?\n",
              "          100 :\n",
              "          Math.round((position / fileData.byteLength) * 100);\n",
              "      percent.textContent = `${percentDone}% done`;\n",
              "\n",
              "    } while (position < fileData.byteLength);\n",
              "  }\n",
              "\n",
              "  // All done.\n",
              "  yield {\n",
              "    response: {\n",
              "      action: 'complete',\n",
              "    }\n",
              "  };\n",
              "}\n",
              "\n",
              "scope.google = scope.google || {};\n",
              "scope.google.colab = scope.google.colab || {};\n",
              "scope.google.colab._files = {\n",
              "  _uploadFiles,\n",
              "  _uploadFilesContinue,\n",
              "};\n",
              "})(self);\n",
              "</script> "
            ]
          },
          "metadata": {}
        },
        {
          "output_type": "stream",
          "name": "stdout",
          "text": [
            "Saving brain_tumor_dataset.zip to brain_tumor_dataset.zip\n"
          ]
        }
      ]
    },
    {
      "cell_type": "code",
      "source": [
        "import numpy as np\n",
        "from matplotlib import pyplot as plt\n",
        "import tensorflow as tf\n",
        "import os"
      ],
      "metadata": {
        "id": "7JNNz4A2qPcR"
      },
      "execution_count": 9,
      "outputs": []
    },
    {
      "cell_type": "code",
      "source": [
        "data_dir = '/content/dataset/brain_tumor_dataset'\n",
        "os.listdir(data_dir)"
      ],
      "metadata": {
        "colab": {
          "base_uri": "https://localhost:8080/"
        },
        "id": "aReyeYy5qQvc",
        "outputId": "423e5b29-37da-4ab5-f59e-c7229b6b35cb"
      },
      "execution_count": 10,
      "outputs": [
        {
          "output_type": "execute_result",
          "data": {
            "text/plain": [
              "['yes', 'no']"
            ]
          },
          "metadata": {},
          "execution_count": 10
        }
      ]
    },
    {
      "cell_type": "code",
      "source": [
        "data = tf.keras.utils.image_dataset_from_directory(data_dir)"
      ],
      "metadata": {
        "colab": {
          "base_uri": "https://localhost:8080/"
        },
        "id": "0L1vgMiCqQm9",
        "outputId": "7abe47b6-4704-48b2-9020-399019dd43fa"
      },
      "execution_count": 11,
      "outputs": [
        {
          "output_type": "stream",
          "name": "stdout",
          "text": [
            "Found 253 files belonging to 2 classes.\n"
          ]
        }
      ]
    },
    {
      "cell_type": "code",
      "source": [
        "data_iterator = data.as_numpy_iterator()\n",
        "batch = data_iterator.next()"
      ],
      "metadata": {
        "id": "qYEi7yOKqQbR"
      },
      "execution_count": 12,
      "outputs": []
    },
    {
      "cell_type": "code",
      "source": [
        "data = data.map(lambda x,y: (x/255, y))\n",
        "scaled_iterator=data.as_numpy_iterator().next()"
      ],
      "metadata": {
        "id": "ctEXn3zsqY0l"
      },
      "execution_count": 13,
      "outputs": []
    },
    {
      "cell_type": "code",
      "source": [
        "train_size = int(len(data)*.7)\n",
        "val_size = int(len(data)*.15)\n",
        "test_size = int(len(data)*.15)"
      ],
      "metadata": {
        "id": "IPXgBRHxqYsh"
      },
      "execution_count": 14,
      "outputs": []
    },
    {
      "cell_type": "code",
      "source": [
        "train = data.take(train_size)\n",
        "val = data.skip(train_size).take(val_size)\n",
        "test = data.skip(train_size+val_size).take(test_size)"
      ],
      "metadata": {
        "id": "BGeBigFKqYhm"
      },
      "execution_count": 15,
      "outputs": []
    },
    {
      "cell_type": "code",
      "source": [
        "import tensorflow as tf\n",
        "from tensorflow.keras.layers import Input, Conv2D, MaxPooling2D, concatenate, Dropout, Flatten, Dense\n",
        "from tensorflow.keras.models import Model\n",
        "\n",
        "def fire_module(x, squeeze, expand):\n",
        "    squeezed = Conv2D(squeeze, (1, 1), activation='relu', padding='same')(x)\n",
        "    expanded1x1 = Conv2D(expand, (1, 1), activation='relu', padding='same')(squeezed)\n",
        "    expanded3x3 = Conv2D(expand, (3, 3), activation='relu', padding='same')(squeezed)\n",
        "    output = concatenate([expanded1x1, expanded3x3], axis=-1)\n",
        "    return output\n",
        "\n",
        "def SqueezeNet(input_shape=(224, 224, 3), num_classes=1000):\n",
        "    input_img = Input(shape=input_shape)\n",
        "    x = Conv2D(96, (7, 7), strides=(2, 2), activation='relu', padding='same')(input_img)\n",
        "    x = MaxPooling2D(pool_size=(3, 3), strides=(2, 2), padding='same')(x)\n",
        "\n",
        "    x = fire_module(x, squeeze=16, expand=64)\n",
        "    x = fire_module(x, squeeze=16, expand=64)\n",
        "    x = fire_module(x, squeeze=32, expand=128)\n",
        "    x = MaxPooling2D(pool_size=(3, 3), strides=(2, 2), padding='same')(x)\n",
        "\n",
        "    x = fire_module(x, squeeze=32, expand=128)\n",
        "    x = fire_module(x, squeeze=48, expand=192)\n",
        "    x = fire_module(x, squeeze=48, expand=192)\n",
        "    x = fire_module(x, squeeze=64, expand=256)\n",
        "    x = MaxPooling2D(pool_size=(3, 3), strides=(2, 2), padding='same')(x)\n",
        "\n",
        "    x = fire_module(x, squeeze=64, expand=256)\n",
        "    x = Dropout(0.5)(x)\n",
        "\n",
        "    x = Conv2D(num_classes, (1, 1), activation='relu', padding='same')(x)\n",
        "    x = GlobalAveragePooling2D()(x)\n",
        "    output = Dense(num_classes, activation='softmax')(x)\n",
        "\n",
        "    model = Model(inputs=input_img, outputs=output)\n",
        "    return model\n",
        "\n",
        "num_classes = 100\n",
        "\n",
        "# Load SqueezeNet\n",
        "transfer_model = SqueezeNet(input_shape=(224, 224, 3), num_classes=num_classes)\n",
        "\n",
        "transfer_model.compile(optimizer='adam', loss='categorical_crossentropy', metrics=['accuracy'])\n",
        "\n",
        "transfer_model.summary()\n"
      ],
      "metadata": {
        "colab": {
          "base_uri": "https://localhost:8080/"
        },
        "id": "LPtvjXhyjEpi",
        "outputId": "ecdd1eb9-281f-43b4-b1a8-dda0ca31417c"
      },
      "execution_count": 17,
      "outputs": [
        {
          "output_type": "stream",
          "name": "stdout",
          "text": [
            "Model: \"model_1\"\n",
            "__________________________________________________________________________________________________\n",
            " Layer (type)                Output Shape                 Param #   Connected to                  \n",
            "==================================================================================================\n",
            " input_2 (InputLayer)        [(None, 224, 224, 3)]        0         []                            \n",
            "                                                                                                  \n",
            " conv2d_26 (Conv2D)          (None, 112, 112, 96)         14208     ['input_2[0][0]']             \n",
            "                                                                                                  \n",
            " max_pooling2d_3 (MaxPoolin  (None, 56, 56, 96)           0         ['conv2d_26[0][0]']           \n",
            " g2D)                                                                                             \n",
            "                                                                                                  \n",
            " conv2d_27 (Conv2D)          (None, 56, 56, 16)           1552      ['max_pooling2d_3[0][0]']     \n",
            "                                                                                                  \n",
            " conv2d_28 (Conv2D)          (None, 56, 56, 64)           1088      ['conv2d_27[0][0]']           \n",
            "                                                                                                  \n",
            " conv2d_29 (Conv2D)          (None, 56, 56, 64)           9280      ['conv2d_27[0][0]']           \n",
            "                                                                                                  \n",
            " concatenate_8 (Concatenate  (None, 56, 56, 128)          0         ['conv2d_28[0][0]',           \n",
            " )                                                                   'conv2d_29[0][0]']           \n",
            "                                                                                                  \n",
            " conv2d_30 (Conv2D)          (None, 56, 56, 16)           2064      ['concatenate_8[0][0]']       \n",
            "                                                                                                  \n",
            " conv2d_31 (Conv2D)          (None, 56, 56, 64)           1088      ['conv2d_30[0][0]']           \n",
            "                                                                                                  \n",
            " conv2d_32 (Conv2D)          (None, 56, 56, 64)           9280      ['conv2d_30[0][0]']           \n",
            "                                                                                                  \n",
            " concatenate_9 (Concatenate  (None, 56, 56, 128)          0         ['conv2d_31[0][0]',           \n",
            " )                                                                   'conv2d_32[0][0]']           \n",
            "                                                                                                  \n",
            " conv2d_33 (Conv2D)          (None, 56, 56, 32)           4128      ['concatenate_9[0][0]']       \n",
            "                                                                                                  \n",
            " conv2d_34 (Conv2D)          (None, 56, 56, 128)          4224      ['conv2d_33[0][0]']           \n",
            "                                                                                                  \n",
            " conv2d_35 (Conv2D)          (None, 56, 56, 128)          36992     ['conv2d_33[0][0]']           \n",
            "                                                                                                  \n",
            " concatenate_10 (Concatenat  (None, 56, 56, 256)          0         ['conv2d_34[0][0]',           \n",
            " e)                                                                  'conv2d_35[0][0]']           \n",
            "                                                                                                  \n",
            " max_pooling2d_4 (MaxPoolin  (None, 28, 28, 256)          0         ['concatenate_10[0][0]']      \n",
            " g2D)                                                                                             \n",
            "                                                                                                  \n",
            " conv2d_36 (Conv2D)          (None, 28, 28, 32)           8224      ['max_pooling2d_4[0][0]']     \n",
            "                                                                                                  \n",
            " conv2d_37 (Conv2D)          (None, 28, 28, 128)          4224      ['conv2d_36[0][0]']           \n",
            "                                                                                                  \n",
            " conv2d_38 (Conv2D)          (None, 28, 28, 128)          36992     ['conv2d_36[0][0]']           \n",
            "                                                                                                  \n",
            " concatenate_11 (Concatenat  (None, 28, 28, 256)          0         ['conv2d_37[0][0]',           \n",
            " e)                                                                  'conv2d_38[0][0]']           \n",
            "                                                                                                  \n",
            " conv2d_39 (Conv2D)          (None, 28, 28, 48)           12336     ['concatenate_11[0][0]']      \n",
            "                                                                                                  \n",
            " conv2d_40 (Conv2D)          (None, 28, 28, 192)          9408      ['conv2d_39[0][0]']           \n",
            "                                                                                                  \n",
            " conv2d_41 (Conv2D)          (None, 28, 28, 192)          83136     ['conv2d_39[0][0]']           \n",
            "                                                                                                  \n",
            " concatenate_12 (Concatenat  (None, 28, 28, 384)          0         ['conv2d_40[0][0]',           \n",
            " e)                                                                  'conv2d_41[0][0]']           \n",
            "                                                                                                  \n",
            " conv2d_42 (Conv2D)          (None, 28, 28, 48)           18480     ['concatenate_12[0][0]']      \n",
            "                                                                                                  \n",
            " conv2d_43 (Conv2D)          (None, 28, 28, 192)          9408      ['conv2d_42[0][0]']           \n",
            "                                                                                                  \n",
            " conv2d_44 (Conv2D)          (None, 28, 28, 192)          83136     ['conv2d_42[0][0]']           \n",
            "                                                                                                  \n",
            " concatenate_13 (Concatenat  (None, 28, 28, 384)          0         ['conv2d_43[0][0]',           \n",
            " e)                                                                  'conv2d_44[0][0]']           \n",
            "                                                                                                  \n",
            " conv2d_45 (Conv2D)          (None, 28, 28, 64)           24640     ['concatenate_13[0][0]']      \n",
            "                                                                                                  \n",
            " conv2d_46 (Conv2D)          (None, 28, 28, 256)          16640     ['conv2d_45[0][0]']           \n",
            "                                                                                                  \n",
            " conv2d_47 (Conv2D)          (None, 28, 28, 256)          147712    ['conv2d_45[0][0]']           \n",
            "                                                                                                  \n",
            " concatenate_14 (Concatenat  (None, 28, 28, 512)          0         ['conv2d_46[0][0]',           \n",
            " e)                                                                  'conv2d_47[0][0]']           \n",
            "                                                                                                  \n",
            " max_pooling2d_5 (MaxPoolin  (None, 14, 14, 512)          0         ['concatenate_14[0][0]']      \n",
            " g2D)                                                                                             \n",
            "                                                                                                  \n",
            " conv2d_48 (Conv2D)          (None, 14, 14, 64)           32832     ['max_pooling2d_5[0][0]']     \n",
            "                                                                                                  \n",
            " conv2d_49 (Conv2D)          (None, 14, 14, 256)          16640     ['conv2d_48[0][0]']           \n",
            "                                                                                                  \n",
            " conv2d_50 (Conv2D)          (None, 14, 14, 256)          147712    ['conv2d_48[0][0]']           \n",
            "                                                                                                  \n",
            " concatenate_15 (Concatenat  (None, 14, 14, 512)          0         ['conv2d_49[0][0]',           \n",
            " e)                                                                  'conv2d_50[0][0]']           \n",
            "                                                                                                  \n",
            " dropout_1 (Dropout)         (None, 14, 14, 512)          0         ['concatenate_15[0][0]']      \n",
            "                                                                                                  \n",
            " conv2d_51 (Conv2D)          (None, 14, 14, 100)          51300     ['dropout_1[0][0]']           \n",
            "                                                                                                  \n",
            " global_average_pooling2d_1  (None, 100)                  0         ['conv2d_51[0][0]']           \n",
            "  (GlobalAveragePooling2D)                                                                        \n",
            "                                                                                                  \n",
            " dense_1 (Dense)             (None, 100)                  10100     ['global_average_pooling2d_1[0\n",
            "                                                                    ][0]']                        \n",
            "                                                                                                  \n",
            "==================================================================================================\n",
            "Total params: 796824 (3.04 MB)\n",
            "Trainable params: 796824 (3.04 MB)\n",
            "Non-trainable params: 0 (0.00 Byte)\n",
            "__________________________________________________________________________________________________\n"
          ]
        }
      ]
    },
    {
      "cell_type": "code",
      "source": [
        "#hist = transfer_model.fit(train, epochs=30, validation_data=val)"
      ],
      "metadata": {
        "id": "rSi_chp8jMg-"
      },
      "execution_count": 19,
      "outputs": []
    },
    {
      "cell_type": "code",
      "source": [],
      "metadata": {
        "id": "GpcCvmDhqvkG"
      },
      "execution_count": null,
      "outputs": []
    }
  ]
}